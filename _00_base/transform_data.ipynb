{
 "cells": [
  {
   "cell_type": "code",
   "execution_count": 5,
   "id": "c916cef2",
   "metadata": {},
   "outputs": [],
   "source": [
    "import os\n",
    "import torch\n",
    "import modules.strings as strings\n",
    "from pprint import pprint\n",
    "import modules.augmenting as augmenting\n",
    "\n",
    "# torch.set_printoptions(threshold=160000)\n",
    "os.environ[\"KMP_DUPLICATE_LIB_OK\"] = \"TRUE\"\n",
    "# problema librerie che usano OpenMP, due versioni di OpenMP sono caricate nello stesso processo, ad esempio da PyTorch e da NumPy"
   ]
  },
  {
   "cell_type": "markdown",
   "id": "d7f18cd0",
   "metadata": {},
   "source": [
    "#### Load data, do data augmentation"
   ]
  },
  {
   "cell_type": "code",
   "execution_count": 6,
   "id": "0bd62f47",
   "metadata": {},
   "outputs": [
    {
     "name": "stdout",
     "output_type": "stream",
     "text": [
      "/home/user/DAML-project/data_images\n"
     ]
    }
   ],
   "source": [
    "root_path = strings.find(os.getcwd(), \"data_images\")\n",
    "print(root_path)"
   ]
  },
  {
   "cell_type": "code",
   "execution_count": 7,
   "id": "539b4151",
   "metadata": {},
   "outputs": [
    {
     "name": "stdout",
     "output_type": "stream",
     "text": [
      "train {'adenocarcinoma_left.lower.lobe_T2_N0_M0_Ib': 195, 'large.cell.carcinoma_left.hilum_T2_N2_M0_IIIa': 115, 'normal': 148, 'squamous.cell.carcinoma_left.hilum_T1_N2_M0_IIIa': 155}\n",
      "torch.Size([1839, 512])\n",
      "torch.Size([1839])\n",
      "valid {'adenocarcinoma_left.lower.lobe_T2_N0_M0_Ib': 23, 'large.cell.carcinoma_left.hilum_T2_N2_M0_IIIa': 21, 'normal': 13, 'squamous.cell.carcinoma_left.hilum_T1_N2_M0_IIIa': 15}\n",
      "torch.Size([72, 512])\n",
      "torch.Size([72])\n",
      "test {'adeno': 120, 'large.cell.carcinoma': 51, 'normal': 54, 'squamous.cell.carcinoma': 90}\n",
      "torch.Size([315, 512])\n",
      "torch.Size([315])\n"
     ]
    }
   ],
   "source": [
    "for name in [\"train\", \"valid\", \"test\"]:\n",
    "    if name==\"train\":\n",
    "        times = 2\n",
    "    else:\n",
    "        times = 0\n",
    "    datasets = augmenting.augment_dataset(os.path.join(root_path, name), times=times)\n",
    "    print(name, strings.classes_nums(datasets[0]))\n",
    "\n",
    "    results, targets = augmenting.map_datasets(datasets)\n",
    "    print(results.shape)\n",
    "    print(targets.shape)\n",
    "    torch.save({\"Features\": results, \"Targets\": targets}, os.path.join(root_path, f\"{name}.pt\"))"
   ]
  },
  {
   "cell_type": "code",
   "execution_count": null,
   "id": "830c11f7",
   "metadata": {},
   "outputs": [],
   "source": []
  }
 ],
 "metadata": {
  "kernelspec": {
   "display_name": ".venv",
   "language": "python",
   "name": "python3"
  },
  "language_info": {
   "codemirror_mode": {
    "name": "ipython",
    "version": 3
   },
   "file_extension": ".py",
   "mimetype": "text/x-python",
   "name": "python",
   "nbconvert_exporter": "python",
   "pygments_lexer": "ipython3",
   "version": "3.10.16"
  }
 },
 "nbformat": 4,
 "nbformat_minor": 5
}
