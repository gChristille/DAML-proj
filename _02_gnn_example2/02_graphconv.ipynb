{
 "cells": [
  {
   "cell_type": "code",
   "execution_count": 2,
   "id": "c38667ed",
   "metadata": {},
   "outputs": [
    {
     "name": "stdout",
     "output_type": "stream",
     "text": [
      "Num of data points: 188, each with 7 features.\n",
      "\n",
      "Class 0: 63\n",
      "Class 1: 125\n",
      "naive guessing accuracy:  tensor(0.6649)\n"
     ]
    }
   ],
   "source": [
    "from torch_geometric.datasets import TUDataset\n",
    "from torch_geometric.loader import DataLoader  # Use PyTorch Geometric's DataLoader\n",
    "import torch\n",
    "import matplotlib.pyplot as plt\n",
    "from shared.utils import calculate_accuracy\n",
    "from shared.training import train_classifier\n",
    "from torch_geometric.nn import summary, GraphConv\n",
    "torch.manual_seed(1234)\n",
    "\n",
    "dataset = TUDataset(root='/tmp/ENZYMES', name='MUTAG')\n",
    "print(\n",
    "    \"Num of data points: \",len(dataset),\n",
    "    \", each with \",dataset.num_node_features,\" features.\\n\",sep=\"\"\n",
    "    )\n",
    "\n",
    "classes, nums = torch.unique(dataset.y, return_counts=True)\n",
    "\n",
    "for cls, n in zip(classes, nums):\n",
    "    print(f'Class {cls.item()}: {n.item()}')\n",
    "\n",
    "print(\"naive guessing accuracy: \", max(nums.float()) / sum(nums.float()))"
   ]
  },
  {
   "cell_type": "code",
   "execution_count": 3,
   "id": "e57bbbc1",
   "metadata": {},
   "outputs": [
    {
     "name": "stdout",
     "output_type": "stream",
     "text": [
      "+----------------------------+-------------------+----------------+----------+\n",
      "| Layer                      | Input Shape       | Output Shape   | #Param   |\n",
      "|----------------------------+-------------------+----------------+----------|\n",
      "| GNNClassifier              |                   | [1, 64]        | 21,632   |\n",
      "| ├─(convolutions)ModuleList | --                | --             | 17,472   |\n",
      "| │    └─(0)GraphConv        | [17, 7], [2, 38]  | [17, 64]       | 960      |\n",
      "| │    └─(1)GraphConv        | [17, 64], [2, 38] | [17, 64]       | 8,256    |\n",
      "| │    └─(2)GraphConv        | [17, 64], [2, 38] | [17, 64]       | 8,256    |\n",
      "| ├─(lin_layers)ModuleList   | --                | --             | 4,160    |\n",
      "| │    └─(0)Linear           | [1, 64]           | [1, 64]        | 4,160    |\n",
      "+----------------------------+-------------------+----------------+----------+\n"
     ]
    }
   ],
   "source": [
    "from shared.models import GNNClassifier\n",
    "\n",
    "model = GNNClassifier(dataset=dataset, hidden_ch=64, dropout=0.2, message_passing_module=GraphConv)\n",
    "print(summary(model, x=dataset[0].x, edge_index=dataset[0].edge_index, batch=None))"
   ]
  },
  {
   "cell_type": "code",
   "execution_count": 4,
   "id": "16daeaee",
   "metadata": {},
   "outputs": [
    {
     "name": "stdout",
     "output_type": "stream",
     "text": [
      "Train dataset size: 112\n",
      "Validation dataset size: 38\n",
      "Test dataset size: 38\n"
     ]
    }
   ],
   "source": [
    "dataset = dataset.shuffle()\n",
    "N = len(dataset)\n",
    "train_dataset = dataset[:int(0.6 * N)]\n",
    "val_dataset = dataset[int(0.6 * N):int(0.8 * N)]\n",
    "test_dataset = dataset[int(0.8 * N):]\n",
    "\n",
    "train_dataloader = DataLoader(train_dataset, batch_size=32, shuffle=True)\n",
    "val_dataloader = DataLoader(val_dataset, batch_size=len(val_dataset), shuffle=False)\n",
    "test_dataloader = DataLoader(test_dataset, batch_size=len(test_dataset), shuffle=False)\n",
    "\n",
    "print(f\"Train dataset size: {len(train_dataset)}\")\n",
    "print(f\"Validation dataset size: {len(val_dataset)}\")\n",
    "print(f\"Test dataset size: {len(test_dataset)}\")"
   ]
  },
  {
   "cell_type": "code",
   "execution_count": 5,
   "id": "79f3444c",
   "metadata": {},
   "outputs": [
    {
     "name": "stdout",
     "output_type": "stream",
     "text": [
      "Epoch    T Loss  T Acc  V Loss  V Acc\n",
      "\n",
      "1/50     2.519   0.406   1.463   0.842\n",
      "2/50     1.391   0.625   1.131   0.711\n",
      "3/50     1.394   0.609   1.146   0.789\n",
      "4/50     1.624   0.617   1.474   0.711\n",
      "5/50     1.690   0.586   0.998   0.816\n",
      "6/50     1.537   0.656   0.940   0.789\n",
      "7/50     1.324   0.719   1.202   0.789\n",
      "8/50     1.351   0.656   1.272   0.763\n",
      "9/50     1.421   0.680   0.938   0.789\n",
      "10/50    1.476   0.617   1.034   0.789\n",
      "11/50    1.547   0.656   1.077   0.763\n",
      "12/50    1.277   0.664   0.855   0.789\n",
      "13/50    1.536   0.695   1.196   0.816\n",
      "14/50    1.464   0.664   1.108   0.789\n",
      "15/50    1.178   0.742   0.731   0.763\n",
      "16/50    1.063   0.758   0.869   0.816\n",
      "17/50    1.271   0.695   0.934   0.816\n",
      "18/50    1.564   0.602   0.924   0.763\n",
      "19/50    1.367   0.633   0.819   0.763\n",
      "20/50    1.428   0.688   0.999   0.789\n",
      "21/50    1.326   0.711   0.941   0.711\n",
      "22/50    1.140   0.727   0.621   0.789\n",
      "23/50    1.483   0.695   1.127   0.763\n",
      "24/50    1.271   0.711   1.045   0.789\n",
      "25/50    1.147   0.734   0.717   0.789\n",
      "26/50    1.283   0.734   0.853   0.789\n",
      "27/50    1.340   0.688   1.018   0.789\n",
      "28/50    1.086   0.820   0.854   0.789\n",
      "29/50    1.073   0.781   0.814   0.789\n",
      "30/50    1.282   0.695   1.018   0.711\n",
      "31/50    1.277   0.688   0.964   0.789\n",
      "32/50    1.101   0.789   0.818   0.789\n",
      "33/50    1.119   0.766   0.926   0.763\n",
      "34/50    1.050   0.750   0.930   0.789\n",
      "35/50    1.333   0.656   0.851   0.789\n",
      "36/50    1.080   0.742   0.746   0.789\n",
      "37/50    1.061   0.766   0.639   0.842\n",
      "38/50    1.199   0.703   0.846   0.789\n",
      "39/50    1.016   0.758   1.065   0.816\n",
      "40/50    1.102   0.773   0.789   0.789\n",
      "41/50    1.452   0.641   0.829   0.737\n",
      "42/50    1.283   0.711   0.920   0.816\n",
      "43/50    1.243   0.742   0.784   0.816\n",
      "44/50    1.262   0.727   0.715   0.842\n",
      "45/50    0.993   0.766   0.754   0.842\n",
      "46/50    1.288   0.688   0.993   0.842\n",
      "47/50    1.281   0.734   0.971   0.816\n",
      "48/50    1.233   0.742   0.738   0.789\n",
      "49/50    1.045   0.711   0.739   0.842\n",
      "50/50    1.138   0.734   0.881   0.737\n"
     ]
    },
    {
     "data": {
      "text/plain": [
       "<matplotlib.legend.Legend at 0x1a7fc905940>"
      ]
     },
     "execution_count": 5,
     "metadata": {},
     "output_type": "execute_result"
    },
    {
     "data": {
      "image/png": "[encoded data removed]",
      "text/plain": [
       "<Figure size 640x480 with 1 Axes>"
      ]
     },
     "metadata": {},
     "output_type": "display_data"
    }
   ],
   "source": [
    "loss = torch.nn.CrossEntropyLoss()\n",
    "optimizer = torch.optim.Adam(model.parameters(), lr=0.01)  # Reduced learning rate\n",
    "\n",
    "train_accs, val_accs = train_classifier(\n",
    "    N_epochs=50,\n",
    "    model=model,\n",
    "    train_dataloader=train_dataloader,\n",
    "    val_dataloader=val_dataloader,\n",
    "    optimizer=optimizer,\n",
    "    loss=loss,\n",
    ")\n",
    "    \n",
    "plt.plot(train_accs, label='Train Accuracy')\n",
    "plt.plot(val_accs, label='Validation Accuracy')\n",
    "plt.xlabel('Epoch')\n",
    "plt.legend()"
   ]
  },
  {
   "cell_type": "code",
   "execution_count": 6,
   "id": "99f4d74a",
   "metadata": {},
   "outputs": [
    {
     "name": "stdout",
     "output_type": "stream",
     "text": [
      "Test Accuracy: 0.7368\n",
      "\n",
      "28 correct predictions out of 38\n",
      "pred, true, correct?\n",
      "(0, 1, 0)\n",
      "(1, 1, 1)\n",
      "(0, 1, 0)\n",
      "(1, 1, 1)\n",
      "(0, 1, 0)\n",
      "(0, 0, 1)\n",
      "(1, 1, 1)\n",
      "(0, 0, 1)\n",
      "(0, 1, 0)\n",
      "(0, 0, 1)\n",
      "(0, 1, 0)\n",
      "(1, 1, 1)\n",
      "(1, 1, 1)\n",
      "(1, 1, 1)\n",
      "(0, 0, 1)\n",
      "(0, 0, 1)\n",
      "(1, 1, 1)\n",
      "(0, 1, 0)\n",
      "(1, 1, 1)\n",
      "(0, 1, 0)\n",
      "(1, 1, 1)\n",
      "(0, 0, 1)\n",
      "(0, 1, 0)\n",
      "(0, 1, 0)\n",
      "(1, 1, 1)\n",
      "(0, 0, 1)\n",
      "(0, 0, 1)\n",
      "(1, 1, 1)\n",
      "(0, 0, 1)\n",
      "(1, 1, 1)\n",
      "(0, 0, 1)\n",
      "(0, 0, 1)\n",
      "(0, 0, 1)\n",
      "(1, 1, 1)\n",
      "(0, 1, 0)\n",
      "(0, 0, 1)\n",
      "(1, 1, 1)\n",
      "(1, 1, 1)\n"
     ]
    }
   ],
   "source": [
    "for batch in test_dataloader:\n",
    "    model.eval()\n",
    "    with torch.no_grad():\n",
    "        out = model(batch.x, batch.edge_index, batch.batch)\n",
    "        test_acc = calculate_accuracy(out, batch.y)\n",
    "        print(f'Test Accuracy: {test_acc:.4f}\\n')\n",
    "        out = torch.argmax(out, dim=1)\n",
    "        y = batch.y\n",
    "        correct = torch.where(out == y, 1, 0)\n",
    "        print(torch.sum(correct).item(), \"correct predictions out of\", len(correct))\n",
    "        print(\"pred, true, correct?\")\n",
    "        print(*zip(out.tolist(), y.tolist(), correct.tolist()), sep='\\n')"
   ]
  },
  {
   "cell_type": "code",
   "execution_count": null,
   "id": "c618d08e",
   "metadata": {},
   "outputs": [],
   "source": []
  }
 ],
 "metadata": {
  "kernelspec": {
   "display_name": "daml-proj",
   "language": "python",
   "name": "python3"
  },
  "language_info": {
   "codemirror_mode": {
    "name": "ipython",
    "version": 3
   },
   "file_extension": ".py",
   "mimetype": "text/x-python",
   "name": "python",
   "nbconvert_exporter": "python",
   "pygments_lexer": "ipython3",
   "version": "3.13.5"
  }
 },
 "nbformat": 4,
 "nbformat_minor": 5
}
