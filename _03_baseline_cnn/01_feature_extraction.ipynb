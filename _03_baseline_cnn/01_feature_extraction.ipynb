{
 "cells": [
  {
   "cell_type": "code",
   "execution_count": 1,
   "id": "75a7fe6f",
   "metadata": {},
   "outputs": [],
   "source": [
    "from torch.utils.data import DataLoader\n",
    "import torch\n",
    "from torchvision.models import mobilenet_v3_large\n",
    "import torch.nn as nn\n",
    "\n",
    "torch.manual_seed(42)\n",
    "\n",
    "images = torch.load(\"03_baseline_cnn/data/images.pt\")\n",
    "labels = torch.load(\"03_baseline_cnn/data/labels.pt\")\n",
    "\n",
    "dataset = torch.utils.data.TensorDataset(images, labels)\n",
    "\n",
    "loader = DataLoader(dataset, batch_size=len(dataset), shuffle=False)"
   ]
  },
  {
   "cell_type": "code",
   "execution_count": 2,
   "id": "7a7ca23a",
   "metadata": {},
   "outputs": [
    {
     "name": "stdout",
     "output_type": "stream",
     "text": [
      "torch.Size([1000, 960])\n",
      "torch.Size([1000])\n"
     ]
    }
   ],
   "source": [
    "model = mobilenet_v3_large(pretrained=True, weights='IMAGENET1K_V1')\n",
    "\n",
    "for param in model.parameters():\n",
    "    param.requires_grad = False\n",
    "\n",
    "model.set_submodule('classifier', nn.Identity())\n",
    "\n",
    "model.get_model_inputs_from_batch = (lambda batch: [batch[0]])\n",
    "model.get_labels_from_batch = (lambda batch: batch[1])\n",
    "\n",
    "\n",
    "with torch.no_grad():\n",
    "    model.eval()\n",
    "    for batch in loader:\n",
    "        processed_images = model(*model.get_model_inputs_from_batch(batch))\n",
    "        print(processed_images.shape)\n",
    "        labels = model.get_labels_from_batch(batch)\n",
    "        print(labels.shape)\n",
    "\n",
    "        torch.save(processed_images, \"03_baseline_cnn/data/extracted_features/basedata.pt\")\n",
    "        torch.save(labels, \"03_baseline_cnn/data/extracted_features/basedata_labels.pt\")"
   ]
  }
 ],
 "metadata": {
  "kernelspec": {
   "display_name": "daml-proj",
   "language": "python",
   "name": "python3"
  },
  "language_info": {
   "codemirror_mode": {
    "name": "ipython",
    "version": 3
   },
   "file_extension": ".py",
   "mimetype": "text/x-python",
   "name": "python",
   "nbconvert_exporter": "python",
   "pygments_lexer": "ipython3",
   "version": "3.13.5"
  }
 },
 "nbformat": 4,
 "nbformat_minor": 5
}
