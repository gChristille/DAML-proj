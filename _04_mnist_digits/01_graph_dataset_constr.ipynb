{
 "cells": [
  {
   "cell_type": "code",
   "execution_count": null,
   "id": "625d0d10",
   "metadata": {},
   "outputs": [],
   "source": [
    "import torch\n",
    "from torch_geometric.loader import DataLoader  # Use PyTorch Geometric's DataLoader\n",
    "from torchvision import datasets, transforms    \n",
    "import os\n",
    "from _04_mnist_digits.graph_dataset import GraphDataset\n",
    "\n",
    "# Define a transform to convert the images to tensors\n",
    "transform = transforms.ToTensor()\n",
    "\n",
    "# Download and load the MNIST dataset\n",
    "train_dataset = datasets.MNIST(root='/data', train=True, transform=transform)\n",
    "test_dataset = datasets.MNIST(root='/data', train=False, transform=transform)"
   ]
  },
  {
   "cell_type": "code",
   "execution_count": 2,
   "id": "bf1814d8",
   "metadata": {},
   "outputs": [
    {
     "name": "stdout",
     "output_type": "stream",
     "text": [
      "torch.Size([60000, 28, 28])\n",
      "torch.Size([10000, 28, 28])\n",
      "torch.Size([60000])\n",
      "torch.Size([10000])\n"
     ]
    }
   ],
   "source": [
    "\n",
    "images_train = train_dataset.data\n",
    "labels_train = train_dataset.targets\n",
    "images_test = test_dataset.data \n",
    "labels_test = test_dataset.targets\n",
    "\n",
    "print(images_train.shape)\n",
    "print(images_test.shape)\n",
    "print(labels_train.shape)\n",
    "print(labels_test.shape)"
   ]
  },
  {
   "cell_type": "code",
   "execution_count": 3,
   "id": "aa1fa12c",
   "metadata": {},
   "outputs": [
    {
     "name": "stdout",
     "output_type": "stream",
     "text": [
      "torch.Size([70000, 28, 28])\n",
      "torch.Size([70000])\n"
     ]
    }
   ],
   "source": [
    "images = torch.cat((images_train, images_test), dim=0)\n",
    "labels = torch.cat((labels_train, labels_test), dim=0)\n",
    "print(images.shape)\n",
    "print(labels.shape)"
   ]
  },
  {
   "cell_type": "code",
   "execution_count": null,
   "id": "2bc4624a",
   "metadata": {},
   "outputs": [
    {
     "name": "stdout",
     "output_type": "stream",
     "text": [
      "Creating new dataset with 70000 images...\n",
      "GraphDataset.__init__ called with 70000 images\n"
     ]
    },
    {
     "name": "stderr",
     "output_type": "stream",
     "text": [
      "100%|██████████| 70000/70000 [11:36<00:00, 100.49it/s]\n"
     ]
    },
    {
     "name": "stdout",
     "output_type": "stream",
     "text": [
      "GraphDataset initialization complete!\n",
      "Saving dataset to 04_mnist_digits/data/graph_dataset.pt\n",
      "Dataset saved!\n"
     ]
    }
   ],
   "source": [
    "saved_dataset_path = '04_mnist_digits/data/graph_dataset.pt'\n",
    "\n",
    "if os.path.exists(saved_dataset_path):\n",
    "    print(f\"Loading existing dataset from {saved_dataset_path}\")\n",
    "    dataset = torch.load(saved_dataset_path, weights_only=False)\n",
    "    print(f\"Loaded dataset with {len(dataset)} graphs\")\n",
    "else:\n",
    "    print(f\"Creating new dataset with {len(images)} images...\")\n",
    "    dataset = GraphDataset(images, labels, use_weighted_edges=True)\n",
    "    print(f\"Saving dataset to {saved_dataset_path}\")\n",
    "    torch.save(dataset, saved_dataset_path)\n",
    "    print(\"Dataset saved!\")"
   ]
  },
  {
   "cell_type": "code",
   "execution_count": 5,
   "id": "8e034380",
   "metadata": {},
   "outputs": [
    {
     "name": "stdout",
     "output_type": "stream",
     "text": [
      "Data(x=[34], edge_index=[2, 111], y=5, edge_weight=[111])\n",
      "Data(x=[34], edge_index=[2, 109], y=0, edge_weight=[109])\n",
      "Data(x=[28], edge_index=[2, 86], y=4, edge_weight=[86])\n",
      "Data(x=[19], edge_index=[2, 51], y=1, edge_weight=[51])\n",
      "Data(x=[24], edge_index=[2, 78], y=9, edge_weight=[78])\n",
      "Data(x=[27], edge_index=[2, 92], y=2, edge_weight=[92])\n",
      "Data(x=[20], edge_index=[2, 58], y=1, edge_weight=[58])\n",
      "Data(x=[30], edge_index=[2, 96], y=3, edge_weight=[96])\n",
      "Data(x=[15], edge_index=[2, 41], y=1, edge_weight=[41])\n",
      "Data(x=[20], edge_index=[2, 59], y=4, edge_weight=[59])\n",
      "DataBatch(x=[251], edge_index=[2, 781], y=[10], edge_weight=[781], batch=[251], ptr=[11])\n"
     ]
    }
   ],
   "source": [
    "loader = DataLoader(dataset, batch_size=10, shuffle=False)\n",
    "\n",
    "for i in range(10):\n",
    "    print(dataset[i])\n",
    "\n",
    "for batch in loader:\n",
    "    print(batch)\n",
    "    break  # Remove this line to iterate through the entire dataset"
   ]
  },
  {
   "cell_type": "code",
   "execution_count": null,
   "id": "12d8c3d9",
   "metadata": {},
   "outputs": [],
   "source": []
  }
 ],
 "metadata": {
  "kernelspec": {
   "display_name": "daml-proj",
   "language": "python",
   "name": "python3"
  },
  "language_info": {
   "codemirror_mode": {
    "name": "ipython",
    "version": 3
   },
   "file_extension": ".py",
   "mimetype": "text/x-python",
   "name": "python",
   "nbconvert_exporter": "python",
   "pygments_lexer": "ipython3",
   "version": "3.13.5"
  }
 },
 "nbformat": 4,
 "nbformat_minor": 5
}
