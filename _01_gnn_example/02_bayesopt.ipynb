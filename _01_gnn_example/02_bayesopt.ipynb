{
 "cells": [
  {
   "cell_type": "code",
   "execution_count": 18,
   "id": "636a6477",
   "metadata": {},
   "outputs": [],
   "source": [
    "import torch\n",
    "from torch_geometric.loader import DataLoader\n",
    "from pathlib import Path\n",
    "from gnn_example.graphdataset import GraphDataset\n",
    "import numpy as np\n",
    "import torch.nn.functional as F\n",
    "from torch_geometric.nn.models import EdgeCNN\n",
    "from bayes_opt import BayesianOptimization\n",
    "import bayes_opt.acquisition as acq\n",
    "import json\n",
    "import os"
   ]
  },
  {
   "cell_type": "code",
   "execution_count": 19,
   "id": "ead8d271",
   "metadata": {},
   "outputs": [],
   "source": [
    "DATA_DIR = Path(\"gnn_example\") / \"data\"\n",
    "TRAIN_PARQUET_FILE = DATA_DIR / \"train_data.parquet\"\n",
    "VAL_PARQUET_FILE = DATA_DIR /  \"val_data.parquet\"\n",
    "TEST_PARQUET_FILE = DATA_DIR /  \"test_sequences.parquet\""
   ]
  },
  {
   "cell_type": "code",
   "execution_count": 20,
   "id": "068de6cb",
   "metadata": {},
   "outputs": [],
   "source": [
    "def loss_fn(output, target):\n",
    "    clipped_target = torch.clip(target, min=0, max=1)\n",
    "    mses = F.mse_loss(output, clipped_target, reduction='mean')\n",
    "    return mses\n",
    "\n",
    "def mae_fn(output, target):\n",
    "    clipped_target = torch.clip(target, min=0, max=1)\n",
    "    maes = F.l1_loss(output, clipped_target, reduction='mean')\n",
    "    return maes"
   ]
  },
  {
   "cell_type": "code",
   "execution_count": 21,
   "id": "5819b983",
   "metadata": {},
   "outputs": [],
   "source": [
    "def black_box_func(EDGE_DISTANCE, N_DATA, LR, WEIGHT_DECAY, DROPOUT_RATE, ALLOW_LOOPS, save_loc:Path=None) -> float:\n",
    "    EDGE_DISTANCE = int(EDGE_DISTANCE)\n",
    "    N_DATA = int(N_DATA)\n",
    "    ALLOW_LOOPS = bool(ALLOW_LOOPS)\n",
    "    \n",
    "    train_dataset = GraphDataset(TRAIN_PARQUET_FILE, edge_distance=EDGE_DISTANCE, allow_loops=ALLOW_LOOPS)\n",
    "    val_dataset = GraphDataset(VAL_PARQUET_FILE, edge_distance=EDGE_DISTANCE, allow_loops=ALLOW_LOOPS)\n",
    "\n",
    "    train_dataloader = DataLoader(train_dataset[:N_DATA], batch_size=128, shuffle=True)\n",
    "    val_dataloader = DataLoader(val_dataset[:2048], batch_size=128, shuffle=False)\n",
    "\n",
    "    model = EdgeCNN(in_channels=train_dataset.num_features, \n",
    "                    hidden_channels=128,\n",
    "                    num_layers=4, \n",
    "                    out_channels=1,\n",
    "                    dropout=DROPOUT_RATE)\n",
    "    \n",
    "    if save_loc is not None:\n",
    "        torch.save(model.state_dict(), save_loc / \"temp.pt\" )\n",
    "    \n",
    "    optimizer = torch.optim.Adam(model.parameters(), lr=LR, weight_decay=WEIGHT_DECAY)\n",
    "    \n",
    "    N_EPOCHS = 10\n",
    "\n",
    "    for epoch in range(N_EPOCHS):\n",
    "        train_losses = []\n",
    "        train_maes = []\n",
    "        model.train()\n",
    "        for batch in train_dataloader:\n",
    "            optimizer.zero_grad()\n",
    "            out = model(batch.x, batch.edge_index)\n",
    "            out = torch.squeeze(out)\n",
    "            loss = loss_fn(out, batch.y)\n",
    "            mae = mae_fn(out, batch.y)\n",
    "            loss.backward()\n",
    "            train_losses.append(loss.detach().cpu().numpy())\n",
    "            train_maes.append(mae.detach().cpu().numpy())\n",
    "            optimizer.step()\n",
    "        \n",
    "        val_losses = []\n",
    "        val_maes = []\n",
    "        model.eval()\n",
    "        for batch in val_dataloader:\n",
    "            optimizer.zero_grad()\n",
    "            out = model(batch.x, batch.edge_index)\n",
    "            out = torch.squeeze(out)\n",
    "            loss = loss_fn(out, batch.y)\n",
    "            mae = mae_fn(out, batch.y)\n",
    "            val_losses.append(loss.detach().cpu().numpy())\n",
    "            val_maes.append(mae.detach().cpu().numpy())\n",
    "        \n",
    "        print(f\"Epoch {epoch+1}/{N_EPOCHS} | MSE: {np.mean(train_losses):.3f} | MAE: {np.mean(train_maes):.3f} | Val MSE: {np.mean(val_losses):.3f} | Val MAE: {np.mean(val_maes):.3f}\")\n",
    "        \n",
    "        if save_loc is not None:\n",
    "            print(\"Saving model from epoch \", epoch)\n",
    "            torch.save(model.state_dict(), save_loc / f\"model_epoch_{epoch}.pt\")\n",
    "    \n",
    "\n",
    "    return -np.min(val_maes) # want to minimize the MAE"
   ]
  },
  {
   "cell_type": "code",
   "execution_count": 22,
   "id": "995345ed",
   "metadata": {},
   "outputs": [
    {
     "name": "stderr",
     "output_type": "stream",
     "text": [
      "C:\\Users\\Gioele\\AppData\\Local\\Temp\\ipykernel_4360\\93441826.py:9: UserWarning: Non-float parameters are experimental and may not work as expected. Exercise caution when using them and please report any issues you encounter.\n",
      "  optimizer = BayesianOptimization(\n"
     ]
    }
   ],
   "source": [
    "pbounds = {\"EDGE_DISTANCE\": (1, 7, int),\n",
    "           \"N_DATA\": (5000, 20000, int),\n",
    "           \"LR\": (1e-5, 1e-2),\n",
    "           \"WEIGHT_DECAY\": (1e-5, 1e-2),\n",
    "           \"DROPOUT_RATE\": (0.0, 0.8),\n",
    "           \"ALLOW_LOOPS\": (0, 1, int)  # This will be handled in the dataset initialization\n",
    "           }\n",
    "\n",
    "optimizer = BayesianOptimization(\n",
    "    f=black_box_func,\n",
    "    pbounds=pbounds,\n",
    "    verbose=2, # verbose = 1 prints only when a maximum is observed, verbose = 0 is silent\n",
    "    random_state=1,\n",
    "    acquisition_function=acq.GPHedge([\n",
    "        acq.UpperConfidenceBound(kappa=2.576, random_state=1), \n",
    "        acq.ExpectedImprovement(xi=0.05, random_state=1),\n",
    "        ]),\n",
    ")"
   ]
  },
  {
   "cell_type": "code",
   "execution_count": 23,
   "id": "1f2b05d5",
   "metadata": {},
   "outputs": [
    {
     "name": "stdout",
     "output_type": "stream",
     "text": [
      "| \u001b[39m1        \u001b[39m | \u001b[39m-0.276353\u001b[39m | \u001b[39m6        \u001b[39m | \u001b[39m5235     \u001b[39m | \u001b[39m0.0072060\u001b[39m | \u001b[39m-.114e-05\u001b[39m | \u001b[39m0.2418660\u001b[39m | \u001b[39m1        \u001b[39m |\n",
      "| \u001b[35m2        \u001b[39m | \u001b[35m-0.275258\u001b[39m | \u001b[35m1        \u001b[39m | \u001b[35m5144     \u001b[39m | \u001b[35m0.0039718\u001b[39m | \u001b[35m0.0038852\u001b[39m | \u001b[35m0.5357968\u001b[39m | \u001b[35m1        \u001b[39m |\n",
      "| \u001b[35m3        \u001b[39m | \u001b[35m-0.239257\u001b[39m | \u001b[35m3        \u001b[39m | \u001b[35m10396    \u001b[39m | \u001b[35m0.0041977\u001b[39m | \u001b[35m0.0068553\u001b[39m | \u001b[35m0.1635617\u001b[39m | \u001b[35m0        \u001b[39m |\n",
      "| \u001b[35m4        \u001b[39m | \u001b[35m-0.193271\u001b[39m | \u001b[35m5        \u001b[39m | \u001b[35m13093    \u001b[39m | \u001b[35m0.0053487\u001b[39m | \u001b[35m0.0091404\u001b[39m | \u001b[35m0.3657638\u001b[39m | \u001b[35m1        \u001b[39m |\n",
      "| \u001b[39m5        \u001b[39m | \u001b[39m-0.193436\u001b[39m | \u001b[39m4        \u001b[39m | \u001b[39m16443    \u001b[39m | \u001b[39m0.0006108\u001b[39m | \u001b[39m0.0071743\u001b[39m | \u001b[39m0.5956617\u001b[39m | \u001b[39m1        \u001b[39m |\n",
      "| \u001b[39m6        \u001b[39m | \u001b[39m-0.232513\u001b[39m | \u001b[39m1        \u001b[39m | \u001b[39m20000    \u001b[39m | \u001b[39m0.0030558\u001b[39m | \u001b[39m0.0093592\u001b[39m | \u001b[39m0.1936453\u001b[39m | \u001b[39m0        \u001b[39m |\n",
      "| \u001b[39m7        \u001b[39m | \u001b[39m-0.233172\u001b[39m | \u001b[39m1        \u001b[39m | \u001b[39m14762    \u001b[39m | \u001b[39m0.0073896\u001b[39m | \u001b[39m0.0054076\u001b[39m | \u001b[39m0.1306847\u001b[39m | \u001b[39m0        \u001b[39m |\n",
      "| \u001b[39m8        \u001b[39m | \u001b[39m-0.210845\u001b[39m | \u001b[39m5        \u001b[39m | \u001b[39m13092    \u001b[39m | \u001b[39m0.0013347\u001b[39m | \u001b[39m0.0028642\u001b[39m | \u001b[39m0.7996806\u001b[39m | \u001b[39m1        \u001b[39m |\n",
      "| \u001b[39m9        \u001b[39m | \u001b[39m-0.233708\u001b[39m | \u001b[39m6        \u001b[39m | \u001b[39m13095    \u001b[39m | \u001b[39m0.0087610\u001b[39m | \u001b[39m0.0055831\u001b[39m | \u001b[39m0.0      \u001b[39m | \u001b[39m0        \u001b[39m |\n",
      "| \u001b[39m10       \u001b[39m | \u001b[39m-0.232609\u001b[39m | \u001b[39m6        \u001b[39m | \u001b[39m16443    \u001b[39m | \u001b[39m0.0032482\u001b[39m | \u001b[39m0.0059081\u001b[39m | \u001b[39m0.5949041\u001b[39m | \u001b[39m1        \u001b[39m |\n",
      "| \u001b[39m11       \u001b[39m | \u001b[39m-0.236127\u001b[39m | \u001b[39m3        \u001b[39m | \u001b[39m16444    \u001b[39m | \u001b[39m0.0015831\u001b[39m | \u001b[39m0.0077125\u001b[39m | \u001b[39m0.0006906\u001b[39m | \u001b[39m1        \u001b[39m |\n",
      "| \u001b[39m12       \u001b[39m | \u001b[39m-0.232208\u001b[39m | \u001b[39m4        \u001b[39m | \u001b[39m13093    \u001b[39m | \u001b[39m0.0031721\u001b[39m | \u001b[39m0.0096724\u001b[39m | \u001b[39m0.0003346\u001b[39m | \u001b[39m1        \u001b[39m |\n",
      "| \u001b[39m13       \u001b[39m | \u001b[39m-0.493533\u001b[39m | \u001b[39m5        \u001b[39m | \u001b[39m16444    \u001b[39m | \u001b[39m1e-05    \u001b[39m | \u001b[39m0.0080555\u001b[39m | \u001b[39m0.6605207\u001b[39m | \u001b[39m1        \u001b[39m |\n",
      "| \u001b[39m14       \u001b[39m | \u001b[39m-0.217269\u001b[39m | \u001b[39m5        \u001b[39m | \u001b[39m13096    \u001b[39m | \u001b[39m0.0022735\u001b[39m | \u001b[39m0.0005264\u001b[39m | \u001b[39m0.0197920\u001b[39m | \u001b[39m0        \u001b[39m |\n",
      "| \u001b[39m15       \u001b[39m | \u001b[39m-0.770950\u001b[39m | \u001b[39m2        \u001b[39m | \u001b[39m15379    \u001b[39m | \u001b[39m0.0002004\u001b[39m | \u001b[39m0.0003314\u001b[39m | \u001b[39m0.7759504\u001b[39m | \u001b[39m1        \u001b[39m |\n",
      "| \u001b[39m16       \u001b[39m | \u001b[39m-0.233447\u001b[39m | \u001b[39m1        \u001b[39m | \u001b[39m19999    \u001b[39m | \u001b[39m0.0060331\u001b[39m | \u001b[39m0.0019405\u001b[39m | \u001b[39m0.2161307\u001b[39m | \u001b[39m0        \u001b[39m |\n",
      "| \u001b[39m17       \u001b[39m | \u001b[39m-0.254216\u001b[39m | \u001b[39m3        \u001b[39m | \u001b[39m10398    \u001b[39m | \u001b[39m1e-05    \u001b[39m | \u001b[39m1e-05    \u001b[39m | \u001b[39m0.1786915\u001b[39m | \u001b[39m1        \u001b[39m |\n",
      "| \u001b[39m18       \u001b[39m | \u001b[39m-0.234211\u001b[39m | \u001b[39m4        \u001b[39m | \u001b[39m16442    \u001b[39m | \u001b[39m0.0026347\u001b[39m | \u001b[39m0.0059246\u001b[39m | \u001b[39m0.4308169\u001b[39m | \u001b[39m1        \u001b[39m |\n",
      "| \u001b[39m19       \u001b[39m | \u001b[39m-0.232657\u001b[39m | \u001b[39m3        \u001b[39m | \u001b[39m16443    \u001b[39m | \u001b[39m0.0024898\u001b[39m | \u001b[39m0.0079114\u001b[39m | \u001b[39m0.8      \u001b[39m | \u001b[39m1        \u001b[39m |\n",
      "| \u001b[39m20       \u001b[39m | \u001b[39m-0.231799\u001b[39m | \u001b[39m7        \u001b[39m | \u001b[39m16442    \u001b[39m | \u001b[39m0.0047721\u001b[39m | \u001b[39m0.0034808\u001b[39m | \u001b[39m0.5472196\u001b[39m | \u001b[39m1        \u001b[39m |\n",
      "| \u001b[39m21       \u001b[39m | \u001b[39m-0.385677\u001b[39m | \u001b[39m2        \u001b[39m | \u001b[39m14761    \u001b[39m | \u001b[39m1e-05    \u001b[39m | \u001b[39m1e-05    \u001b[39m | \u001b[39m0.8      \u001b[39m | \u001b[39m0        \u001b[39m |\n",
      "| \u001b[39m22       \u001b[39m | \u001b[39m-0.215668\u001b[39m | \u001b[39m4        \u001b[39m | \u001b[39m13098    \u001b[39m | \u001b[39m0.0033011\u001b[39m | \u001b[39m0.0016516\u001b[39m | \u001b[39m0.0284182\u001b[39m | \u001b[39m1        \u001b[39m |\n",
      "| \u001b[39m23       \u001b[39m | \u001b[39m-0.484363\u001b[39m | \u001b[39m5        \u001b[39m | \u001b[39m13093    \u001b[39m | \u001b[39m1e-05    \u001b[39m | \u001b[39m1e-05    \u001b[39m | \u001b[39m0.8      \u001b[39m | \u001b[39m0        \u001b[39m |\n",
      "| \u001b[39m24       \u001b[39m | \u001b[39m-0.232996\u001b[39m | \u001b[39m3        \u001b[39m | \u001b[39m16445    \u001b[39m | \u001b[39m0.0018769\u001b[39m | \u001b[39m0.0081435\u001b[39m | \u001b[39m0.0014158\u001b[39m | \u001b[39m1        \u001b[39m |\n",
      "| \u001b[39m25       \u001b[39m | \u001b[39m-0.231981\u001b[39m | \u001b[39m3        \u001b[39m | \u001b[39m16442    \u001b[39m | \u001b[39m0.0019696\u001b[39m | \u001b[39m0.0070134\u001b[39m | \u001b[39m0.6082809\u001b[39m | \u001b[39m1        \u001b[39m |\n"
     ]
    }
   ],
   "source": [
    "TOT_ITERATIONS = 25\n",
    "N_INIT = 4\n",
    "output_dir = Path(\"gnn_example/outputs/02\")\n",
    "\n",
    "if not (output_dir/\"results.json\").exists():\n",
    "    optimizer.maximize(\n",
    "        init_points=N_INIT,\n",
    "        n_iter=TOT_ITERATIONS - N_INIT,\n",
    "    )\n",
    "\n",
    "    with open(output_dir/\"results.json\", \"a+\") as f:\n",
    "        json.dump(optimizer.res, f, indent=4)\n",
    "\n",
    "    optimizer.save_state(output_dir/\"optimizer_state.json\")\n",
    "\n",
    "else:\n",
    "    optimizer.load_state(output_dir/\"optimizer_state.json\")"
   ]
  },
  {
   "cell_type": "code",
   "execution_count": 30,
   "id": "c6b4001f",
   "metadata": {},
   "outputs": [
    {
     "name": "stdout",
     "output_type": "stream",
     "text": [
      "Epoch 1/10 | MSE: 0.106 | MAE: 0.271 | Val MSE: 0.105 | Val MAE: 0.252\n",
      "Saving model from epoch  0\n",
      "Epoch 2/10 | MSE: 0.106 | MAE: 0.269 | Val MSE: 0.105 | Val MAE: 0.252\n",
      "Saving model from epoch  1\n",
      "Epoch 3/10 | MSE: 0.106 | MAE: 0.269 | Val MSE: 0.105 | Val MAE: 0.253\n",
      "Saving model from epoch  2\n",
      "Epoch 4/10 | MSE: 0.106 | MAE: 0.269 | Val MSE: 0.104 | Val MAE: 0.255\n",
      "Saving model from epoch  3\n",
      "Epoch 5/10 | MSE: 0.106 | MAE: 0.269 | Val MSE: 0.105 | Val MAE: 0.253\n",
      "Saving model from epoch  4\n",
      "Epoch 6/10 | MSE: 0.106 | MAE: 0.269 | Val MSE: 0.105 | Val MAE: 0.252\n",
      "Saving model from epoch  5\n",
      "Epoch 7/10 | MSE: 0.106 | MAE: 0.269 | Val MSE: 0.105 | Val MAE: 0.252\n",
      "Saving model from epoch  6\n",
      "Epoch 8/10 | MSE: 0.106 | MAE: 0.269 | Val MSE: 0.104 | Val MAE: 0.254\n",
      "Saving model from epoch  7\n",
      "Epoch 9/10 | MSE: 0.106 | MAE: 0.269 | Val MSE: 0.105 | Val MAE: 0.250\n",
      "Saving model from epoch  8\n",
      "Epoch 10/10 | MSE: 0.106 | MAE: 0.269 | Val MSE: 0.104 | Val MAE: 0.254\n",
      "Saving model from epoch  9\n"
     ]
    }
   ],
   "source": [
    "# save model from iteration 4\n",
    "if not os.listdir(output_dir/\"Iteration_4\"): # check if the directory is empty\n",
    "    key_dict = optimizer.res[3]['params']\n",
    "    black_box_func(**key_dict, save_loc=output_dir/\"Iteration_4\")"
   ]
  },
  {
   "cell_type": "code",
   "execution_count": 28,
   "id": "b1adaae8",
   "metadata": {},
   "outputs": [
    {
     "name": "stdout",
     "output_type": "stream",
     "text": [
      "Epoch 1/10 | MSE: 1.083 | MAE: 0.978 | Val MSE: 0.671 | Val MAE: 0.753\n",
      "Saving model from epoch  0\n",
      "Epoch 2/10 | MSE: 0.413 | MAE: 0.544 | Val MSE: 0.260 | Val MAE: 0.395\n",
      "Saving model from epoch  1\n",
      "Epoch 3/10 | MSE: 0.177 | MAE: 0.285 | Val MSE: 0.137 | Val MAE: 0.238\n",
      "Saving model from epoch  2\n",
      "Epoch 4/10 | MSE: 0.118 | MAE: 0.252 | Val MSE: 0.110 | Val MAE: 0.239\n",
      "Saving model from epoch  3\n",
      "Epoch 5/10 | MSE: 0.107 | MAE: 0.261 | Val MSE: 0.106 | Val MAE: 0.248\n",
      "Saving model from epoch  4\n",
      "Epoch 6/10 | MSE: 0.106 | MAE: 0.267 | Val MSE: 0.105 | Val MAE: 0.252\n",
      "Saving model from epoch  5\n",
      "Epoch 7/10 | MSE: 0.106 | MAE: 0.269 | Val MSE: 0.105 | Val MAE: 0.253\n",
      "Saving model from epoch  6\n",
      "Epoch 8/10 | MSE: 0.106 | MAE: 0.269 | Val MSE: 0.105 | Val MAE: 0.253\n",
      "Saving model from epoch  7\n",
      "Epoch 9/10 | MSE: 0.106 | MAE: 0.269 | Val MSE: 0.105 | Val MAE: 0.253\n",
      "Saving model from epoch  8\n",
      "Epoch 10/10 | MSE: 0.106 | MAE: 0.269 | Val MSE: 0.105 | Val MAE: 0.253\n",
      "Saving model from epoch  9\n"
     ]
    }
   ],
   "source": [
    "# save model from iteration 4\n",
    "if not os.listdir(output_dir/\"Iteration_4b\"): # check if the directory is empty\n",
    "    key_dict = optimizer.res[3]['params']\n",
    "    black_box_func(**key_dict, save_loc=output_dir/\"Iteration_4b\")"
   ]
  },
  {
   "cell_type": "code",
   "execution_count": 25,
   "id": "90b1ad0d",
   "metadata": {},
   "outputs": [
    {
     "name": "stdout",
     "output_type": "stream",
     "text": [
      "Epoch 1/10 | MSE: 0.268 | MAE: 0.473 | Val MSE: 0.223 | Val MAE: 0.442\n",
      "Saving model from epoch  0\n",
      "Epoch 2/10 | MSE: 0.214 | MAE: 0.424 | Val MSE: 0.180 | Val MAE: 0.398\n",
      "Saving model from epoch  1\n",
      "Epoch 3/10 | MSE: 0.175 | MAE: 0.385 | Val MSE: 0.151 | Val MAE: 0.362\n",
      "Saving model from epoch  2\n",
      "Epoch 4/10 | MSE: 0.149 | MAE: 0.354 | Val MSE: 0.131 | Val MAE: 0.332\n",
      "Saving model from epoch  3\n",
      "Epoch 5/10 | MSE: 0.131 | MAE: 0.329 | Val MSE: 0.118 | Val MAE: 0.309\n",
      "Saving model from epoch  4\n",
      "Epoch 6/10 | MSE: 0.120 | MAE: 0.311 | Val MSE: 0.111 | Val MAE: 0.292\n",
      "Saving model from epoch  5\n",
      "Epoch 7/10 | MSE: 0.114 | MAE: 0.298 | Val MSE: 0.107 | Val MAE: 0.280\n",
      "Saving model from epoch  6\n",
      "Epoch 8/10 | MSE: 0.110 | MAE: 0.289 | Val MSE: 0.105 | Val MAE: 0.271\n",
      "Saving model from epoch  7\n",
      "Epoch 9/10 | MSE: 0.108 | MAE: 0.282 | Val MSE: 0.104 | Val MAE: 0.264\n",
      "Saving model from epoch  8\n",
      "Epoch 10/10 | MSE: 0.107 | MAE: 0.278 | Val MSE: 0.104 | Val MAE: 0.260\n",
      "Saving model from epoch  9\n"
     ]
    }
   ],
   "source": [
    "# save model from iteration 5\n",
    "if not os.listdir(output_dir/\"Iteration_5\"): # check if the directory is empty\n",
    "    key_dict = optimizer.res[4]['params']\n",
    "    black_box_func(**key_dict, save_loc=output_dir/\"Iteration_5\")"
   ]
  },
  {
   "cell_type": "code",
   "execution_count": 26,
   "id": "4deb101f",
   "metadata": {},
   "outputs": [
    {
     "name": "stdout",
     "output_type": "stream",
     "text": [
      "Epoch 1/10 | MSE: 0.214 | MAE: 0.357 | Val MSE: 0.160 | Val MAE: 0.253\n",
      "Saving model from epoch  0\n",
      "Epoch 2/10 | MSE: 0.109 | MAE: 0.263 | Val MSE: 0.151 | Val MAE: 0.243\n",
      "Saving model from epoch  1\n",
      "Epoch 3/10 | MSE: 0.107 | MAE: 0.263 | Val MSE: 0.157 | Val MAE: 0.249\n",
      "Saving model from epoch  2\n",
      "Epoch 4/10 | MSE: 0.106 | MAE: 0.261 | Val MSE: 0.183 | Val MAE: 0.285\n",
      "Saving model from epoch  3\n",
      "Epoch 5/10 | MSE: 0.105 | MAE: 0.261 | Val MSE: 0.204 | Val MAE: 0.317\n",
      "Saving model from epoch  4\n",
      "Epoch 6/10 | MSE: 0.105 | MAE: 0.262 | Val MSE: 0.212 | Val MAE: 0.330\n",
      "Saving model from epoch  5\n",
      "Epoch 7/10 | MSE: 0.105 | MAE: 0.263 | Val MSE: 0.217 | Val MAE: 0.337\n",
      "Saving model from epoch  6\n",
      "Epoch 8/10 | MSE: 0.105 | MAE: 0.263 | Val MSE: 0.229 | Val MAE: 0.356\n",
      "Saving model from epoch  7\n",
      "Epoch 9/10 | MSE: 0.105 | MAE: 0.263 | Val MSE: 0.238 | Val MAE: 0.367\n",
      "Saving model from epoch  8\n",
      "Epoch 10/10 | MSE: 0.105 | MAE: 0.263 | Val MSE: 0.239 | Val MAE: 0.369\n",
      "Saving model from epoch  9\n"
     ]
    }
   ],
   "source": [
    "# save model from iteration 5\n",
    "if not os.listdir(output_dir/\"Iteration_5b\"): # check if the directory is empty\n",
    "    key_dict = optimizer.res[4]['params']\n",
    "    black_box_func(**key_dict, save_loc=output_dir/\"Iteration_5b\")"
   ]
  },
  {
   "cell_type": "code",
   "execution_count": null,
   "id": "24b0deac",
   "metadata": {},
   "outputs": [],
   "source": []
  }
 ],
 "metadata": {
  "kernelspec": {
   "display_name": "daml-proj",
   "language": "python",
   "name": "python3"
  },
  "language_info": {
   "codemirror_mode": {
    "name": "ipython",
    "version": 3
   },
   "file_extension": ".py",
   "mimetype": "text/x-python",
   "name": "python",
   "nbconvert_exporter": "python",
   "pygments_lexer": "ipython3",
   "version": "3.13.5"
  }
 },
 "nbformat": 4,
 "nbformat_minor": 5
}
