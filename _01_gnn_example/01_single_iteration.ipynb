{
 "cells": [
  {
   "cell_type": "code",
   "execution_count": 15,
   "id": "63a998cf",
   "metadata": {},
   "outputs": [],
   "source": [
    "import torch\n",
    "from torch_geometric.loader import DataLoader\n",
    "from pathlib import Path\n",
    "from tqdm import tqdm\n",
    "import polars as pl\n",
    "from gnn_example.graphdataset import GraphDataset\n",
    "import numpy as np\n",
    "import time"
   ]
  },
  {
   "cell_type": "code",
   "execution_count": 16,
   "id": "999a9755",
   "metadata": {},
   "outputs": [],
   "source": [
    "DATA_DIR = Path(\"gnn_example\") / \"data\"\n",
    "TRAIN_PARQUET_FILE = DATA_DIR / \"train_data.parquet\"\n",
    "VAL_PARQUET_FILE = DATA_DIR /  \"val_data.parquet\"\n",
    "TEST_PARQUET_FILE = DATA_DIR /  \"test_sequences.parquet\"\n",
    "\n",
    "files = [TRAIN_PARQUET_FILE, VAL_PARQUET_FILE, TEST_PARQUET_FILE]\n",
    "\n",
    "EDGE_DISTANCE = 1"
   ]
  },
  {
   "cell_type": "code",
   "execution_count": 17,
   "id": "a8bdd326",
   "metadata": {},
   "outputs": [
    {
     "name": "stdout",
     "output_type": "stream",
     "text": [
      "Loading dataset train...\n",
      "Loading dataset val...\n"
     ]
    }
   ],
   "source": [
    "print(\"Loading dataset train...\")\n",
    "train_dataset = GraphDataset(TRAIN_PARQUET_FILE, edge_distance=EDGE_DISTANCE)\n",
    "print(\"Loading dataset val...\")\n",
    "val_dataset = GraphDataset(VAL_PARQUET_FILE, edge_distance=EDGE_DISTANCE)"
   ]
  },
  {
   "cell_type": "code",
   "execution_count": 18,
   "id": "d8a7e8bb",
   "metadata": {},
   "outputs": [],
   "source": [
    "import torch.nn.functional as F\n",
    "\n",
    "def loss_fn(output, target):\n",
    "    clipped_target = torch.clip(target, min=0, max=1)\n",
    "    mses = F.mse_loss(output, clipped_target, reduction='mean')\n",
    "    return mses\n",
    "\n",
    "def mae_fn(output, target):\n",
    "    clipped_target = torch.clip(target, min=0, max=1)\n",
    "    maes = F.l1_loss(output, clipped_target, reduction='mean')\n",
    "    return maes"
   ]
  },
  {
   "cell_type": "code",
   "execution_count": 19,
   "id": "41600bef",
   "metadata": {},
   "outputs": [],
   "source": [
    "from torch_geometric.nn.models import EdgeCNN\n",
    "\n",
    "model = EdgeCNN(in_channels=train_dataset.num_features, hidden_channels=128,\n",
    "                num_layers=2, out_channels=1, act=\"sigmoid\")"
   ]
  },
  {
   "cell_type": "code",
   "execution_count": 20,
   "id": "0801a51d",
   "metadata": {},
   "outputs": [
    {
     "name": "stdout",
     "output_type": "stream",
     "text": [
      "tensor([[0., 0., 1., 0.],\n",
      "        [0., 0., 1., 0.],\n",
      "        [0., 0., 1., 0.],\n",
      "        [1., 0., 0., 0.],\n",
      "        [1., 0., 0., 0.],\n",
      "        [1., 0., 0., 0.],\n",
      "        [0., 1., 0., 0.],\n",
      "        [0., 0., 0., 1.],\n",
      "        [0., 0., 1., 0.],\n",
      "        [0., 1., 0., 0.],\n",
      "        [0., 1., 0., 0.],\n",
      "        [0., 0., 0., 1.],\n",
      "        [0., 0., 1., 0.],\n",
      "        [1., 0., 0., 0.],\n",
      "        [0., 0., 0., 1.],\n",
      "        [0., 0., 1., 0.],\n",
      "        [0., 0., 1., 0.],\n",
      "        [1., 0., 0., 0.],\n",
      "        [0., 0., 1., 0.],\n",
      "        [0., 0., 1., 0.],\n",
      "        [0., 0., 1., 0.],\n",
      "        [0., 0., 1., 0.],\n",
      "        [0., 0., 1., 0.],\n",
      "        [1., 0., 0., 0.],\n",
      "        [0., 0., 0., 1.],\n",
      "        [1., 0., 0., 0.],\n",
      "        [1., 0., 0., 0.],\n",
      "        [0., 1., 0., 0.],\n",
      "        [0., 0., 0., 1.],\n",
      "        [1., 0., 0., 0.],\n",
      "        [0., 1., 0., 0.],\n",
      "        [0., 0., 0., 1.],\n",
      "        [0., 0., 1., 0.],\n",
      "        [0., 0., 1., 0.],\n",
      "        [1., 0., 0., 0.],\n",
      "        [1., 0., 0., 0.],\n",
      "        [1., 0., 0., 0.],\n",
      "        [0., 1., 0., 0.],\n",
      "        [0., 0., 1., 0.],\n",
      "        [0., 0., 1., 0.],\n",
      "        [0., 0., 0., 1.],\n",
      "        [1., 0., 0., 0.],\n",
      "        [0., 0., 1., 0.],\n",
      "        [0., 1., 0., 0.],\n",
      "        [0., 0., 0., 1.],\n",
      "        [1., 0., 0., 0.],\n",
      "        [1., 0., 0., 0.],\n",
      "        [0., 0., 0., 1.],\n",
      "        [1., 0., 0., 0.],\n",
      "        [0., 1., 0., 0.],\n",
      "        [0., 1., 0., 0.],\n",
      "        [0., 0., 1., 0.],\n",
      "        [0., 1., 0., 0.],\n",
      "        [1., 0., 0., 0.],\n",
      "        [0., 0., 0., 1.],\n",
      "        [1., 0., 0., 0.],\n",
      "        [1., 0., 0., 0.],\n",
      "        [0., 1., 0., 0.],\n",
      "        [0., 0., 1., 0.],\n",
      "        [0., 0., 0., 1.],\n",
      "        [0., 1., 0., 0.],\n",
      "        [0., 0., 1., 0.],\n",
      "        [0., 1., 0., 0.],\n",
      "        [1., 0., 0., 0.],\n",
      "        [1., 0., 0., 0.],\n",
      "        [0., 0., 1., 0.],\n",
      "        [1., 0., 0., 0.],\n",
      "        [0., 1., 0., 0.],\n",
      "        [0., 1., 0., 0.],\n",
      "        [1., 0., 0., 0.],\n",
      "        [1., 0., 0., 0.],\n",
      "        [1., 0., 0., 0.],\n",
      "        [0., 0., 1., 0.],\n",
      "        [1., 0., 0., 0.],\n",
      "        [0., 0., 1., 0.],\n",
      "        [0., 0., 1., 0.],\n",
      "        [0., 0., 1., 0.],\n",
      "        [0., 0., 1., 0.],\n",
      "        [0., 0., 1., 0.],\n",
      "        [1., 0., 0., 0.],\n",
      "        [0., 1., 0., 0.],\n",
      "        [0., 1., 0., 0.],\n",
      "        [0., 0., 0., 1.],\n",
      "        [0., 0., 0., 1.],\n",
      "        [0., 1., 0., 0.],\n",
      "        [0., 0., 1., 0.],\n",
      "        [0., 0., 1., 0.],\n",
      "        [0., 0., 1., 0.],\n",
      "        [0., 1., 0., 0.],\n",
      "        [0., 1., 0., 0.],\n",
      "        [0., 0., 0., 1.],\n",
      "        [0., 1., 0., 0.],\n",
      "        [0., 0., 0., 1.],\n",
      "        [0., 0., 0., 1.],\n",
      "        [0., 0., 1., 0.],\n",
      "        [0., 1., 0., 0.],\n",
      "        [0., 1., 0., 0.],\n",
      "        [1., 0., 0., 0.],\n",
      "        [0., 0., 0., 1.],\n",
      "        [0., 1., 0., 0.],\n",
      "        [0., 0., 1., 0.],\n",
      "        [0., 0., 1., 0.],\n",
      "        [1., 0., 0., 0.],\n",
      "        [0., 0., 0., 1.],\n",
      "        [0., 0., 1., 0.],\n",
      "        [0., 0., 0., 1.],\n",
      "        [0., 0., 1., 0.],\n",
      "        [0., 1., 0., 0.],\n",
      "        [0., 1., 0., 0.],\n",
      "        [0., 1., 0., 0.]])\n",
      "tensor([[  1,   2,   3,   4,   5,   6,   7,   8,   9,  10,  11,  12,  13,  14,\n",
      "          15,  16,  17,  18,  19,  20,  21,  22,  23,  24,  25,  26,  27,  28,\n",
      "          29,  30,  31,  32,  33,  34,  35,  36,  37,  38,  39,  40,  41,  42,\n",
      "          43,  44,  45,  46,  47,  48,  49,  50,  51,  52,  53,  54,  55,  56,\n",
      "          57,  58,  59,  60,  61,  62,  63,  64,  65,  66,  67,  68,  69,  70,\n",
      "          71,  72,  73,  74,  75,  76,  77,  78,  79,  80,  81,  82,  83,  84,\n",
      "          85,  86,  87,  88,  89,  90,  91,  92,  93,  94,  95,  96,  97,  98,\n",
      "          99, 100, 101, 102, 103, 104, 105, 106, 107, 108, 109,   0,   1,   2,\n",
      "           3,   4,   5,   6,   7,   8,   9,  10,  11,  12,  13,  14,  15,  16,\n",
      "          17,  18,  19,  20,  21,  22,  23,  24,  25,  26,  27,  28,  29,  30,\n",
      "          31,  32,  33,  34,  35,  36,  37,  38,  39,  40,  41,  42,  43,  44,\n",
      "          45,  46,  47,  48,  49,  50,  51,  52,  53,  54,  55,  56,  57,  58,\n",
      "          59,  60,  61,  62,  63,  64,  65,  66,  67,  68,  69,  70,  71,  72,\n",
      "          73,  74,  75,  76,  77,  78,  79,  80,  81,  82,  83,  84,  85,  86,\n",
      "          87,  88,  89,  90,  91,  92,  93,  94,  95,  96,  97,  98,  99, 100,\n",
      "         101, 102, 103, 104, 105, 106, 107, 108],\n",
      "        [  0,   1,   2,   3,   4,   5,   6,   7,   8,   9,  10,  11,  12,  13,\n",
      "          14,  15,  16,  17,  18,  19,  20,  21,  22,  23,  24,  25,  26,  27,\n",
      "          28,  29,  30,  31,  32,  33,  34,  35,  36,  37,  38,  39,  40,  41,\n",
      "          42,  43,  44,  45,  46,  47,  48,  49,  50,  51,  52,  53,  54,  55,\n",
      "          56,  57,  58,  59,  60,  61,  62,  63,  64,  65,  66,  67,  68,  69,\n",
      "          70,  71,  72,  73,  74,  75,  76,  77,  78,  79,  80,  81,  82,  83,\n",
      "          84,  85,  86,  87,  88,  89,  90,  91,  92,  93,  94,  95,  96,  97,\n",
      "          98,  99, 100, 101, 102, 103, 104, 105, 106, 107, 108,   1,   2,   3,\n",
      "           4,   5,   6,   7,   8,   9,  10,  11,  12,  13,  14,  15,  16,  17,\n",
      "          18,  19,  20,  21,  22,  23,  24,  25,  26,  27,  28,  29,  30,  31,\n",
      "          32,  33,  34,  35,  36,  37,  38,  39,  40,  41,  42,  43,  44,  45,\n",
      "          46,  47,  48,  49,  50,  51,  52,  53,  54,  55,  56,  57,  58,  59,\n",
      "          60,  61,  62,  63,  64,  65,  66,  67,  68,  69,  70,  71,  72,  73,\n",
      "          74,  75,  76,  77,  78,  79,  80,  81,  82,  83,  84,  85,  86,  87,\n",
      "          88,  89,  90,  91,  92,  93,  94,  95,  96,  97,  98,  99, 100, 101,\n",
      "         102, 103, 104, 105, 106, 107, 108, 109]])\n",
      "0 tensor(1.0100, grad_fn=<MeanBackward0>) tensor(0.0005, grad_fn=<StdBackward0>)\n",
      "1 tensor(1.0100, grad_fn=<MeanBackward0>) tensor(0.0005, grad_fn=<StdBackward0>)\n",
      "2 tensor(1.0100, grad_fn=<MeanBackward0>) tensor(0.0005, grad_fn=<StdBackward0>)\n",
      "3 tensor(1.0100, grad_fn=<MeanBackward0>) tensor(0.0005, grad_fn=<StdBackward0>)\n",
      "4 tensor(1.0100, grad_fn=<MeanBackward0>) tensor(0.0005, grad_fn=<StdBackward0>)\n",
      "5 tensor(1.0100, grad_fn=<MeanBackward0>) tensor(0.0005, grad_fn=<StdBackward0>)\n",
      "6 tensor(1.0100, grad_fn=<MeanBackward0>) tensor(0.0005, grad_fn=<StdBackward0>)\n",
      "7 tensor(1.0100, grad_fn=<MeanBackward0>) tensor(0.0005, grad_fn=<StdBackward0>)\n",
      "8 tensor(1.0100, grad_fn=<MeanBackward0>) tensor(0.0005, grad_fn=<StdBackward0>)\n",
      "9 tensor(1.0100, grad_fn=<MeanBackward0>) tensor(0.0005, grad_fn=<StdBackward0>)\n"
     ]
    }
   ],
   "source": [
    "model.eval()\n",
    "print(train_dataset[0].x)\n",
    "print(train_dataset[0].edge_index)\n",
    "for i in range(10):\n",
    "    out = model(train_dataset[0].x, train_dataset[0].edge_index)\n",
    "    print(i, torch.mean(out), torch.std(out))"
   ]
  },
  {
   "cell_type": "markdown",
   "id": "cd763671",
   "metadata": {},
   "source": [
    "# Training"
   ]
  },
  {
   "cell_type": "code",
   "execution_count": 8,
   "id": "b1910789",
   "metadata": {},
   "outputs": [
    {
     "data": {
      "text/plain": [
       "=================================================================\n",
       "Layer (type:depth-idx)                   Param #\n",
       "=================================================================\n",
       "EdgeCNN                                  --\n",
       "├─Dropout: 1-1                           --\n",
       "├─ReLU: 1-2                              --\n",
       "├─ModuleList: 1-3                        --\n",
       "│    └─EdgeConv: 2-1                     --\n",
       "│    │    └─MaxAggregation: 3-1          --\n",
       "│    │    └─MLP: 3-2                     17,664\n",
       "│    └─EdgeConv: 2-2                     --\n",
       "│    │    └─MaxAggregation: 3-3          --\n",
       "│    │    └─MLP: 3-4                     49,408\n",
       "│    └─EdgeConv: 2-3                     --\n",
       "│    │    └─MaxAggregation: 3-5          --\n",
       "│    │    └─MLP: 3-6                     49,408\n",
       "│    └─EdgeConv: 2-4                     --\n",
       "│    │    └─MaxAggregation: 3-7          --\n",
       "│    │    └─MLP: 3-8                     259\n",
       "├─ModuleList: 1-4                        --\n",
       "│    └─Identity: 2-5                     --\n",
       "│    └─Identity: 2-6                     --\n",
       "│    └─Identity: 2-7                     --\n",
       "│    └─Identity: 2-8                     --\n",
       "├─TrimToLayer: 1-5                       --\n",
       "=================================================================\n",
       "Total params: 116,739\n",
       "Trainable params: 116,739\n",
       "Non-trainable params: 0\n",
       "================================================================="
      ]
     },
     "execution_count": 8,
     "metadata": {},
     "output_type": "execute_result"
    }
   ],
   "source": [
    "from torchinfo import summary\n",
    "summary(model)"
   ]
  },
  {
   "cell_type": "code",
   "execution_count": 7,
   "id": "2078c95f",
   "metadata": {},
   "outputs": [],
   "source": [
    "optimizer = torch.optim.Adam(model.parameters(), lr=0.003, weight_decay=5e-4)\n",
    "train_dataloader = DataLoader(train_dataset, batch_size=128, shuffle=True, num_workers=0)\n",
    "val_dataloader = DataLoader(val_dataset[:2000], batch_size=128, shuffle=True, num_workers=0)"
   ]
  },
  {
   "cell_type": "code",
   "execution_count": null,
   "id": "ba3907a8",
   "metadata": {},
   "outputs": [
    {
     "name": "stderr",
     "output_type": "stream",
     "text": [
      "Epoch 0/10 | MSE 0.168 | MAE: 0.352: 100%|██████████| 79/79 [01:00<00:00,  1.31it/s]\n",
      "Epoch 0/10 | MSE 0.105 | MAE: 0.258: 100%|██████████| 16/16 [00:07<00:00,  2.04it/s]\n"
     ]
    },
    {
     "name": "stdout",
     "output_type": "stream",
     "text": [
      "\n",
      "\n"
     ]
    },
    {
     "name": "stderr",
     "output_type": "stream",
     "text": [
      "Epoch 1/10 | MSE 0.095 | MAE: 0.247: 100%|██████████| 79/79 [01:01<00:00,  1.29it/s]\n",
      "Epoch 1/10 | MSE 0.104 | MAE: 0.251: 100%|██████████| 16/16 [00:07<00:00,  2.03it/s]\n"
     ]
    },
    {
     "name": "stdout",
     "output_type": "stream",
     "text": [
      "\n",
      "\n"
     ]
    },
    {
     "name": "stderr",
     "output_type": "stream",
     "text": [
      "Epoch 2/10 | MSE 0.092 | MAE: 0.241: 100%|██████████| 79/79 [01:01<00:00,  1.29it/s]\n",
      "Epoch 2/10 | MSE 0.106 | MAE: 0.242: 100%|██████████| 16/16 [00:07<00:00,  2.01it/s]\n"
     ]
    },
    {
     "name": "stdout",
     "output_type": "stream",
     "text": [
      "\n",
      "\n"
     ]
    },
    {
     "name": "stderr",
     "output_type": "stream",
     "text": [
      "Epoch 3/10 | MSE 0.092 | MAE: 0.240: 100%|██████████| 79/79 [01:01<00:00,  1.28it/s]\n",
      "Epoch 3/10 | MSE 0.106 | MAE: 0.246: 100%|██████████| 16/16 [00:07<00:00,  2.03it/s]\n"
     ]
    },
    {
     "name": "stdout",
     "output_type": "stream",
     "text": [
      "\n",
      "\n"
     ]
    },
    {
     "name": "stderr",
     "output_type": "stream",
     "text": [
      "Epoch 4/10 | MSE 0.092 | MAE: 0.240: 100%|██████████| 79/79 [01:02<00:00,  1.27it/s]\n",
      "Epoch 4/10 | MSE 0.106 | MAE: 0.244: 100%|██████████| 16/16 [00:07<00:00,  2.00it/s]\n"
     ]
    },
    {
     "name": "stdout",
     "output_type": "stream",
     "text": [
      "\n",
      "\n"
     ]
    },
    {
     "name": "stderr",
     "output_type": "stream",
     "text": [
      "Epoch 5/10 | MSE 0.091 | MAE: 0.240: 100%|██████████| 79/79 [01:03<00:00,  1.25it/s]\n",
      "Epoch 5/10 | MSE 0.109 | MAE: 0.242: 100%|██████████| 16/16 [00:07<00:00,  2.03it/s]\n"
     ]
    },
    {
     "name": "stdout",
     "output_type": "stream",
     "text": [
      "\n",
      "\n"
     ]
    },
    {
     "name": "stderr",
     "output_type": "stream",
     "text": [
      "Epoch 6/10 | MSE 0.089 | MAE: 0.237: 100%|██████████| 79/79 [01:02<00:00,  1.26it/s]\n",
      "Epoch 6/10 | MSE 0.108 | MAE: 0.244: 100%|██████████| 16/16 [00:07<00:00,  2.06it/s]\n"
     ]
    },
    {
     "name": "stdout",
     "output_type": "stream",
     "text": [
      "\n",
      "\n"
     ]
    },
    {
     "name": "stderr",
     "output_type": "stream",
     "text": [
      "Epoch 7/10 | MSE 0.084 | MAE: 0.228: 100%|██████████| 79/79 [01:03<00:00,  1.24it/s]\n",
      "Epoch 7/10 | MSE 0.111 | MAE: 0.255: 100%|██████████| 16/16 [00:07<00:00,  2.04it/s]\n"
     ]
    },
    {
     "name": "stdout",
     "output_type": "stream",
     "text": [
      "\n",
      "\n"
     ]
    },
    {
     "name": "stderr",
     "output_type": "stream",
     "text": [
      "Epoch 8/10 | MSE 0.083 | MAE: 0.225: 100%|██████████| 79/79 [01:02<00:00,  1.26it/s]\n",
      "Epoch 8/10 | MSE 0.110 | MAE: 0.244: 100%|██████████| 16/16 [00:07<00:00,  2.09it/s]\n"
     ]
    },
    {
     "name": "stdout",
     "output_type": "stream",
     "text": [
      "\n",
      "\n"
     ]
    },
    {
     "name": "stderr",
     "output_type": "stream",
     "text": [
      "Epoch 9/10 | MSE 0.081 | MAE: 0.223: 100%|██████████| 79/79 [01:04<00:00,  1.22it/s]\n",
      "Epoch 9/10 | MSE 0.107 | MAE: 0.256: 100%|██████████| 16/16 [00:07<00:00,  2.10it/s]"
     ]
    },
    {
     "name": "stdout",
     "output_type": "stream",
     "text": [
      "\n",
      "\n"
     ]
    },
    {
     "name": "stderr",
     "output_type": "stream",
     "text": [
      "\n"
     ]
    }
   ],
   "source": [
    "\n",
    "n_epochs = 10\n",
    "\n",
    "\n",
    "for epoch in range(n_epochs):\n",
    "    train_losses = []\n",
    "    train_maes = []\n",
    "    model.train()\n",
    "    for batch in (pbar:= tqdm(train_dataloader, position=0, leave=True)):\n",
    "        optimizer.zero_grad()\n",
    "        out = model(batch.x, batch.edge_index)\n",
    "        out = torch.squeeze(out)\n",
    "        loss = loss_fn(out, batch.y)\n",
    "        mae = mae_fn(out, batch.y)\n",
    "        loss.backward()\n",
    "        train_losses.append(loss.detach().cpu().numpy())\n",
    "        train_maes.append(mae.detach().cpu().numpy())\n",
    "        optimizer.step() \n",
    "        pbar.set_description(f\"Epoch {epoch}/{n_epochs} | MSE {np.mean(train_losses):.3f} | MAE: {np.mean(train_maes):.3f}\")\n",
    "    \n",
    "    val_losses = []\n",
    "    val_maes = []\n",
    "    model.eval()\n",
    "    with torch.no_grad():\n",
    "        for batch in (pbar:= tqdm(val_dataloader, position=0, leave=True)):\n",
    "            optimizer.zero_grad()\n",
    "            out = model(batch.x, batch.edge_index)\n",
    "            out = torch.squeeze(out)\n",
    "            loss = loss_fn(out, batch.y)\n",
    "            mae = mae_fn(out, batch.y)\n",
    "            val_losses.append(loss.detach().cpu().numpy())\n",
    "            val_maes.append(mae.detach().cpu().numpy())\n",
    "            pbar.set_description(f\"Epoch {epoch}/{n_epochs} | MSE {np.mean(val_losses):.3f} | MAE: {np.mean(val_maes):.3f}\")\n",
    "\n",
    "    print(\"\\n\")\n",
    "\n",
    "    torch.save(model.state_dict(), DATA_DIR.parent / \"models\" / f\"model_epoch_{epoch}.pt\")\n",
    "    with open(DATA_DIR.parent / \"models\" / \"train_summary.txt\", \"a+\") as f:\n",
    "        f.write(f\"Epoch {epoch}/{n_epochs} | MSE {np.mean(train_losses):.3f} | MAE: {np.mean(train_maes):.3f}\\n\")\n",
    "        f.write(f\"Epoch {epoch}/{n_epochs} | MSE {np.mean(val_losses):.3f} | MAE: {np.mean(val_maes):.3f}\\n\")"
   ]
  }
 ],
 "metadata": {
  "kernelspec": {
   "display_name": "daml-proj",
   "language": "python",
   "name": "python3"
  },
  "language_info": {
   "codemirror_mode": {
    "name": "ipython",
    "version": 3
   },
   "file_extension": ".py",
   "mimetype": "text/x-python",
   "name": "python",
   "nbconvert_exporter": "python",
   "pygments_lexer": "ipython3",
   "version": "3.13.5"
  }
 },
 "nbformat": 4,
 "nbformat_minor": 5
}
