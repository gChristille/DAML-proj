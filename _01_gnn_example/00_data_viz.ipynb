{
 "cells": [
  {
   "cell_type": "code",
   "execution_count": 1,
   "id": "05049b17",
   "metadata": {},
   "outputs": [],
   "source": [
    "import polars as pl\n",
    "\n",
    "df = pl.read_parquet(\"gnn_example/data/train_data.parquet\")"
   ]
  },
  {
   "cell_type": "code",
   "execution_count": 10,
   "id": "94e9a536",
   "metadata": {},
   "outputs": [
    {
     "name": "stdout",
     "output_type": "stream",
     "text": [
      "[['GGGAAACUGCCUGAUGGAGGGGGAUAACUACUGGAAACGGUAGCUAAUACCGCAUAACGUCGCAAGACCAAAGAGGGGGACCUUCGGGCCUCUUGCCAUCGGAUGUGCCC']]\n",
      "shape: (150, 1)\n",
      "┌──────────┐\n",
      "│ sequence │\n",
      "│ ---      │\n",
      "│ u32      │\n",
      "╞══════════╡\n",
      "│ 40       │\n",
      "│ 41       │\n",
      "│ 43       │\n",
      "│ 46       │\n",
      "│ 51       │\n",
      "│ …        │\n",
      "│ 342      │\n",
      "│ 395      │\n",
      "│ 408      │\n",
      "│ 417      │\n",
      "│ 433      │\n",
      "└──────────┘\n"
     ]
    }
   ],
   "source": [
    "print(df.head(1).select(pl.col(\"sequence\")).to_numpy().tolist())\n",
    "\n",
    "print(df.select(pl.col(\"sequence\").str.len_chars().unique()))"
   ]
  }
 ],
 "metadata": {
  "kernelspec": {
   "display_name": "daml-proj",
   "language": "python",
   "name": "python3"
  },
  "language_info": {
   "codemirror_mode": {
    "name": "ipython",
    "version": 3
   },
   "file_extension": ".py",
   "mimetype": "text/x-python",
   "name": "python",
   "nbconvert_exporter": "python",
   "pygments_lexer": "ipython3",
   "version": "3.13.5"
  }
 },
 "nbformat": 4,
 "nbformat_minor": 5
}
