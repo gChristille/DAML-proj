{
 "cells": [
  {
   "cell_type": "code",
   "execution_count": 1,
   "id": "82870989",
   "metadata": {},
   "outputs": [],
   "source": [
    "import torch\n",
    "import torch.nn.functional as F\n",
    "from torch_geometric.loader import DataLoader\n",
    "from torch_geometric.nn import EdgeCNN\n",
    "from pathlib import Path\n",
    "from tqdm import tqdm\n",
    "import polars as pl\n",
    "from gnn_example.graphdataset import GraphDataset\n",
    "import numpy as np\n",
    "import time\n",
    "import os\n",
    "from pathlib import Path\n",
    "from bayes_opt import BayesianOptimization\n",
    "import bayes_opt.acquisition as acq\n",
    "import json\n",
    "from pprint import pprint\n",
    "\n",
    "DATA_DIR = Path(\"gnn_example\") / \"data\"\n",
    "TEST_PARQUET_FILE = DATA_DIR /  \"test_sequences.parquet\""
   ]
  },
  {
   "cell_type": "code",
   "execution_count": 2,
   "id": "ac946949",
   "metadata": {},
   "outputs": [],
   "source": [
    "with open(\"gnn_example/outputs/02/results.json\", \"r\") as f:\n",
    "    results = json.load(f)\n",
    "\n",
    "\n",
    "\n",
    "def loss_fn(output, target):\n",
    "    clipped_target = torch.clip(target, min=0, max=1)\n",
    "    mses = F.mse_loss(output, clipped_target, reduction='mean')\n",
    "    return mses\n",
    "\n",
    "def mae_fn(output, target):\n",
    "    clipped_target = torch.clip(target, min=0, max=1)\n",
    "    maes = F.l1_loss(output, clipped_target, reduction='mean')\n",
    "    return maes\n"
   ]
  },
  {
   "cell_type": "code",
   "execution_count": 3,
   "id": "27893c5e",
   "metadata": {},
   "outputs": [],
   "source": [
    "best_models = [\n",
    "    (\"4\", 2), # (iteration, epoch)\n",
    "    (\"4b\", 4),\n",
    "    (\"5\", 10),\n",
    "    (\"5b\", 2),\n",
    "]"
   ]
  },
  {
   "cell_type": "code",
   "execution_count": 4,
   "id": "cafcae62",
   "metadata": {},
   "outputs": [],
   "source": [
    "def pipeline(ITERATION_LOADED, EPOCH_LOADED):\n",
    "    params = results[int(ITERATION_LOADED.strip(\"b\"))][\"params\"]\n",
    "\n",
    "    ALLOW_LOOPS = params[\"ALLOW_LOOPS\"]\n",
    "    EDGE_DISTANCE = params[\"EDGE_DISTANCE\"]\n",
    "    DROPOUT_RATE = params[\"DROPOUT_RATE\"]\n",
    "    N_TEST = 5000\n",
    "\n",
    "    test_dataset = GraphDataset(TEST_PARQUET_FILE, edge_distance=EDGE_DISTANCE, allow_loops=ALLOW_LOOPS)\n",
    "    test_dataloader = DataLoader(test_dataset[:N_TEST], batch_size=N_TEST, shuffle=False)\n",
    "    model = EdgeCNN(4, 128, 4, 1, dropout=DROPOUT_RATE)\n",
    "    model.load_state_dict(torch.load(f\"gnn_example/outputs/02/Iteration_{ITERATION_LOADED}/model_epoch_{EPOCH_LOADED-1}.pt\"))\n",
    "    model.eval()\n",
    "\n",
    "    with torch.no_grad():\n",
    "        for batch in test_dataloader:\n",
    "            out = model(batch.x, batch.edge_index)\n",
    "            out = torch.squeeze(out)\n",
    "            loss = loss_fn(out, batch.y)\n",
    "            mae = mae_fn(out, batch.y)\n",
    "            \n",
    "            return f\"Iteration {ITERATION_LOADED}, epoch {EPOCH_LOADED}: \\n\\t[Loss: {loss.item():.4f}, MAE: {mae.item():4f}]\""
   ]
  },
  {
   "cell_type": "code",
   "execution_count": 5,
   "id": "989ebef9",
   "metadata": {},
   "outputs": [],
   "source": [
    "output_file = Path(\"gnn_example/outputs/03/results.txt\")\n",
    "\n",
    "if not output_file.exists():\n",
    "    with open(output_file, \"w\") as f:\n",
    "        for iteration, epoch in best_models:\n",
    "            f.write(pipeline(iteration, epoch)+ \"\\n\")"
   ]
  },
  {
   "cell_type": "markdown",
   "id": "6596cdaf",
   "metadata": {},
   "source": [
    "# Example of Prediction"
   ]
  },
  {
   "cell_type": "code",
   "execution_count": 7,
   "id": "a306560f",
   "metadata": {},
   "outputs": [],
   "source": [
    "import matplotlib.pyplot as plt"
   ]
  },
  {
   "cell_type": "code",
   "execution_count": 15,
   "id": "59b09c8e",
   "metadata": {},
   "outputs": [],
   "source": [
    "ITERATION_LOADED, EPOCH_LOADED = best_models[1]  # Example of loading the first model\n",
    "\n",
    "params = results[int(ITERATION_LOADED.strip(\"b\"))][\"params\"]\n",
    "\n",
    "ALLOW_LOOPS = params[\"ALLOW_LOOPS\"]\n",
    "EDGE_DISTANCE = params[\"EDGE_DISTANCE\"]\n",
    "DROPOUT_RATE = params[\"DROPOUT_RATE\"]\n",
    "N_TEST = 5000\n",
    "\n",
    "test_dataset = GraphDataset(TEST_PARQUET_FILE, edge_distance=EDGE_DISTANCE, allow_loops=ALLOW_LOOPS)\n",
    "\n",
    "model = EdgeCNN(4, 128, 4, 1, dropout=DROPOUT_RATE)\n",
    "model.load_state_dict(torch.load(f\"gnn_example/outputs/02/Iteration_{ITERATION_LOADED}/model_epoch_{EPOCH_LOADED-1}.pt\"))\n",
    "\n",
    "model.eval()\n",
    "with torch.no_grad():\n",
    "    data_point = test_dataset[110]\n",
    "    out = model(data_point.x, data_point.edge_index)\n",
    "    out = torch.squeeze(out)\n",
    "\n",
    "    # Sort out and y by y\n",
    "    sorted_indices = torch.argsort(data_point.y)\n",
    "    sorted_out = out[sorted_indices]\n",
    "    sorted_y = data_point.y[sorted_indices]"
   ]
  },
  {
   "cell_type": "code",
   "execution_count": 16,
   "id": "8edaea5f",
   "metadata": {},
   "outputs": [
    {
     "data": {
      "text/plain": [
       "[<matplotlib.lines.Line2D at 0x1af01228190>]"
      ]
     },
     "execution_count": 16,
     "metadata": {},
     "output_type": "execute_result"
    },
    {
     "data": {
      "image/png": "[encoded data removed]",
      "text/plain": [
       "<Figure size 1000x600 with 1 Axes>"
      ]
     },
     "metadata": {},
     "output_type": "display_data"
    }
   ],
   "source": [
    "fig, ax = plt.subplots(figsize=(10, 6))\n",
    "ax.plot(data_point.y, 'o')\n",
    "ax.plot(out, 'o')"
   ]
  }
 ],
 "metadata": {
  "kernelspec": {
   "display_name": "daml-proj",
   "language": "python",
   "name": "python3"
  },
  "language_info": {
   "codemirror_mode": {
    "name": "ipython",
    "version": 3
   },
   "file_extension": ".py",
   "mimetype": "text/x-python",
   "name": "python",
   "nbconvert_exporter": "python",
   "pygments_lexer": "ipython3",
   "version": "3.13.5"
  }
 },
 "nbformat": 4,
 "nbformat_minor": 5
}
